{
 "cells": [
  {
   "cell_type": "markdown",
   "metadata": {},
   "source": [
    "# EmojiPred "
   ]
  },
  {
   "cell_type": "markdown",
   "metadata": {},
   "source": [
    "### Loading glove embeddings"
   ]
  },
  {
   "cell_type": "code",
   "execution_count": 1,
   "metadata": {},
   "outputs": [],
   "source": [
    "import gensim\n",
    "import gensim.downloader\n",
    "from gensim.models import KeyedVectors\n",
    "import pandas\n",
    "import string\n",
    "import pandas as pd\n",
    "import collections\n",
    "import itertools\n",
    "import numpy as np\n",
    "import pickle \n",
    "import nltk\n",
    "import sklearn\n",
    "from sklearn import metrics\n",
    "from sklearn.model_selection import train_test_split\n",
    "from sklearn.model_selection import KFold\n",
    "from matplotlib import pyplot as plt\n",
    "from sklearn.metrics import confusion_matrix\n",
    "from sklearn.metrics import classification_report\n",
    "import seaborn as sns\n",
    "import random"
   ]
  },
  {
   "cell_type": "code",
   "execution_count": 4,
   "metadata": {},
   "outputs": [],
   "source": [
    "from tqdm._tqdm_notebook import tqdm_notebook\n",
    "tqdm_notebook.pandas()"
   ]
  },
  {
   "cell_type": "code",
   "execution_count": 5,
   "metadata": {},
   "outputs": [
    {
     "name": "stderr",
     "output_type": "stream",
     "text": [
      "2021-11-28 04:49:19.200759: I tensorflow/core/common_runtime/gpu/gpu_device.cc:1510] Created device /device:GPU:0 with 13440 MB memory:  -> device: 0, name: Quadro P5000, pci bus id: 0000:03:00.0, compute capability: 6.1\n"
     ]
    },
    {
     "data": {
      "text/plain": [
       "True"
      ]
     },
     "execution_count": 5,
     "metadata": {},
     "output_type": "execute_result"
    }
   ],
   "source": [
    "import tensorflow as tf\n",
    "import keras\n",
    "from tensorflow.keras.models import Sequential\n",
    "from tensorflow.keras.layers import Dense\n",
    "from tensorflow.keras.layers import Dropout\n",
    "from tensorflow.keras.utils import to_categorical\n",
    "import tensorflow_hub as hub\n",
    "\n",
    "# Tensorflow GPU check\n",
    "tf.test.is_gpu_available(\n",
    "    cuda_only=False, min_cuda_compute_capability=None\n",
    ")"
   ]
  },
  {
   "cell_type": "markdown",
   "metadata": {},
   "source": [
    "### Parameters"
   ]
  },
  {
   "cell_type": "code",
   "execution_count": 6,
   "metadata": {},
   "outputs": [],
   "source": [
    "embed_path = 'embeddings/twitter_27B_200d.kv'\n",
    "embed_dim = 200\n",
    "emb_model = KeyedVectors.load(embed_path)\n",
    "\n",
    "lang = 'bengali'\n",
    "data_path = 'data/indian-langs/bengali_tweets_translated.csv'\n",
    "label_map = {0:0, 1:1, 2:2, 3:3, 4:4, 5:5, 6:6, 7:7, 8:8, 9:9, 10:10, 12:11, 13:12, 14:13, 15:14, 16:15, 17:16, 18:17, 19:18}\n",
    "min_len = 2\n",
    "max_len = 15\n",
    "max_pad_len = 10\n",
    "num_classes = 19"
   ]
  },
  {
   "cell_type": "code",
   "execution_count": 7,
   "metadata": {},
   "outputs": [
    {
     "data": {
      "text/html": [
       "<div>\n",
       "<style scoped>\n",
       "    .dataframe tbody tr th:only-of-type {\n",
       "        vertical-align: middle;\n",
       "    }\n",
       "\n",
       "    .dataframe tbody tr th {\n",
       "        vertical-align: top;\n",
       "    }\n",
       "\n",
       "    .dataframe thead th {\n",
       "        text-align: right;\n",
       "    }\n",
       "</style>\n",
       "<table border=\"1\" class=\"dataframe\">\n",
       "  <thead>\n",
       "    <tr style=\"text-align: right;\">\n",
       "      <th></th>\n",
       "      <th>tweet</th>\n",
       "      <th>label</th>\n",
       "    </tr>\n",
       "  </thead>\n",
       "  <tbody>\n",
       "    <tr>\n",
       "      <th>0</th>\n",
       "      <td>first of all on behalf of the stupidians i wou...</td>\n",
       "      <td>6</td>\n",
       "    </tr>\n",
       "    <tr>\n",
       "      <th>1</th>\n",
       "      <td>you give me</td>\n",
       "      <td>14</td>\n",
       "    </tr>\n",
       "    <tr>\n",
       "      <th>2</th>\n",
       "      <td>eid mubarak eid mubarak ha bhai day test for o...</td>\n",
       "      <td>2</td>\n",
       "    </tr>\n",
       "    <tr>\n",
       "      <th>3</th>\n",
       "      <td>little silent the picture i took on my st birt...</td>\n",
       "      <td>1</td>\n",
       "    </tr>\n",
       "    <tr>\n",
       "      <th>4</th>\n",
       "      <td>salute to those girls who now eat flour bread ...</td>\n",
       "      <td>2</td>\n",
       "    </tr>\n",
       "  </tbody>\n",
       "</table>\n",
       "</div>"
      ],
      "text/plain": [
       "                                               tweet  label\n",
       "0  first of all on behalf of the stupidians i wou...      6\n",
       "1                                        you give me     14\n",
       "2  eid mubarak eid mubarak ha bhai day test for o...      2\n",
       "3  little silent the picture i took on my st birt...      1\n",
       "4  salute to those girls who now eat flour bread ...      2"
      ]
     },
     "execution_count": 7,
     "metadata": {},
     "output_type": "execute_result"
    }
   ],
   "source": [
    "df = pd.read_csv(data_path)\n",
    "df.head()"
   ]
  },
  {
   "cell_type": "code",
   "execution_count": 8,
   "metadata": {},
   "outputs": [
    {
     "name": "stdout",
     "output_type": "stream",
     "text": [
      "Before:\n",
      " tweet    1220\n",
      "label       0\n",
      "dtype: int64\n",
      "\n",
      "After:\n",
      " tweet    0\n",
      "label    0\n",
      "dtype: int64\n"
     ]
    }
   ],
   "source": [
    "print(\"Before:\\n\", df.isnull().sum())\n",
    "df = df.dropna()\n",
    "print(\"\\nAfter:\\n\", df.isnull().sum())"
   ]
  },
  {
   "cell_type": "code",
   "execution_count": 9,
   "metadata": {},
   "outputs": [],
   "source": [
    "# nltk.download('stopwords')\n",
    "from nltk.corpus import stopwords\n",
    "# stopwords.words('english')"
   ]
  },
  {
   "cell_type": "code",
   "execution_count": 10,
   "metadata": {},
   "outputs": [],
   "source": [
    "def remove_stopwords(text):\n",
    "    word_list = []\n",
    "    for i in text.split():\n",
    "        if i not in stopwords.words('english'):\n",
    "            word_list.append(i)\n",
    "    text_clean = \" \".join(word_list)\n",
    "    return text_clean"
   ]
  },
  {
   "cell_type": "code",
   "execution_count": 11,
   "metadata": {},
   "outputs": [],
   "source": [
    "df['tweet'] = df['tweet'].apply(remove_stopwords)"
   ]
  },
  {
   "cell_type": "code",
   "execution_count": 12,
   "metadata": {},
   "outputs": [
    {
     "data": {
      "text/html": [
       "<div>\n",
       "<style scoped>\n",
       "    .dataframe tbody tr th:only-of-type {\n",
       "        vertical-align: middle;\n",
       "    }\n",
       "\n",
       "    .dataframe tbody tr th {\n",
       "        vertical-align: top;\n",
       "    }\n",
       "\n",
       "    .dataframe thead th {\n",
       "        text-align: right;\n",
       "    }\n",
       "</style>\n",
       "<table border=\"1\" class=\"dataframe\">\n",
       "  <thead>\n",
       "    <tr style=\"text-align: right;\">\n",
       "      <th></th>\n",
       "      <th>tweet</th>\n",
       "      <th>label</th>\n",
       "      <th>token</th>\n",
       "      <th>len</th>\n",
       "    </tr>\n",
       "  </thead>\n",
       "  <tbody>\n",
       "    <tr>\n",
       "      <th>0</th>\n",
       "      <td>first behalf stupidians would like inform ever...</td>\n",
       "      <td>6</td>\n",
       "      <td>[first, behalf, stupidians, would, like, infor...</td>\n",
       "      <td>13</td>\n",
       "    </tr>\n",
       "    <tr>\n",
       "      <th>1</th>\n",
       "      <td>give</td>\n",
       "      <td>13</td>\n",
       "      <td>[give]</td>\n",
       "      <td>1</td>\n",
       "    </tr>\n",
       "    <tr>\n",
       "      <th>2</th>\n",
       "      <td>eid mubarak eid mubarak ha bhai day test days ...</td>\n",
       "      <td>2</td>\n",
       "      <td>[eid, mubarak, eid, mubarak, ha, bhai, day, te...</td>\n",
       "      <td>11</td>\n",
       "    </tr>\n",
       "    <tr>\n",
       "      <th>3</th>\n",
       "      <td>little silent picture took st birthday one too...</td>\n",
       "      <td>1</td>\n",
       "      <td>[little, silent, picture, took, st, birthday, ...</td>\n",
       "      <td>13</td>\n",
       "    </tr>\n",
       "    <tr>\n",
       "      <th>4</th>\n",
       "      <td>salute girls eat flour bread instead flour flour</td>\n",
       "      <td>2</td>\n",
       "      <td>[salute, girls, eat, flour, bread, instead, fl...</td>\n",
       "      <td>8</td>\n",
       "    </tr>\n",
       "  </tbody>\n",
       "</table>\n",
       "</div>"
      ],
      "text/plain": [
       "                                               tweet  label  \\\n",
       "0  first behalf stupidians would like inform ever...      6   \n",
       "1                                               give     13   \n",
       "2  eid mubarak eid mubarak ha bhai day test days ...      2   \n",
       "3  little silent picture took st birthday one too...      1   \n",
       "4   salute girls eat flour bread instead flour flour      2   \n",
       "\n",
       "                                               token  len  \n",
       "0  [first, behalf, stupidians, would, like, infor...   13  \n",
       "1                                             [give]    1  \n",
       "2  [eid, mubarak, eid, mubarak, ha, bhai, day, te...   11  \n",
       "3  [little, silent, picture, took, st, birthday, ...   13  \n",
       "4  [salute, girls, eat, flour, bread, instead, fl...    8  "
      ]
     },
     "execution_count": 12,
     "metadata": {},
     "output_type": "execute_result"
    }
   ],
   "source": [
    "df['token'] = df['tweet'].apply(lambda x: x.split())\n",
    "df['len'] = df['token'].apply(lambda x: len(x))\n",
    "df['label'] = df['label'].apply(lambda x: label_map[x])\n",
    "df.head()"
   ]
  },
  {
   "cell_type": "code",
   "execution_count": 13,
   "metadata": {},
   "outputs": [
    {
     "name": "stdout",
     "output_type": "stream",
     "text": [
      "[0, 1, 2, 3, 4, 5, 6, 7, 8, 9, 10, 11, 12, 13, 14, 15, 16, 17, 18] \n",
      " 19\n"
     ]
    }
   ],
   "source": [
    "temp = sorted(df['label'].value_counts().index)\n",
    "print(temp, \"\\n\", len(temp))"
   ]
  },
  {
   "cell_type": "code",
   "execution_count": 14,
   "metadata": {},
   "outputs": [
    {
     "data": {
      "text/plain": [
       "9      6954\n",
       "10     6743\n",
       "8      6193\n",
       "11     5996\n",
       "12     5147\n",
       "7      4976\n",
       "6      3800\n",
       "13     3769\n",
       "5      2622\n",
       "14     2585\n",
       "4      1913\n",
       "15     1704\n",
       "3      1374\n",
       "2      1148\n",
       "16     1008\n",
       "1       839\n",
       "17      566\n",
       "18      298\n",
       "0       252\n",
       "19      147\n",
       "20       86\n",
       "21       37\n",
       "22       29\n",
       "24       13\n",
       "25       10\n",
       "23        7\n",
       "26        5\n",
       "31        3\n",
       "29        3\n",
       "37        2\n",
       "48        2\n",
       "28        2\n",
       "47        1\n",
       "39        1\n",
       "148       1\n",
       "44        1\n",
       "34        1\n",
       "41        1\n",
       "45        1\n",
       "Name: len, dtype: int64"
      ]
     },
     "execution_count": 14,
     "metadata": {},
     "output_type": "execute_result"
    }
   ],
   "source": [
    "df['len'].value_counts()"
   ]
  },
  {
   "cell_type": "code",
   "execution_count": 15,
   "metadata": {},
   "outputs": [
    {
     "data": {
      "text/plain": [
       "<AxesSubplot:xlabel='len', ylabel='count'>"
      ]
     },
     "execution_count": 15,
     "metadata": {},
     "output_type": "execute_result"
    },
    {
     "data": {
      "image/png": "[encoded data removed]",
      "text/plain": [
       "<Figure size 864x360 with 1 Axes>"
      ]
     },
     "metadata": {
      "needs_background": "light"
     },
     "output_type": "display_data"
    }
   ],
   "source": [
    "plt.figure(figsize=(12, 5))\n",
    "sns.countplot(x=df['len'])"
   ]
  },
  {
   "cell_type": "code",
   "execution_count": 16,
   "metadata": {},
   "outputs": [
    {
     "data": {
      "text/html": [
       "<div>\n",
       "<style scoped>\n",
       "    .dataframe tbody tr th:only-of-type {\n",
       "        vertical-align: middle;\n",
       "    }\n",
       "\n",
       "    .dataframe tbody tr th {\n",
       "        vertical-align: top;\n",
       "    }\n",
       "\n",
       "    .dataframe thead th {\n",
       "        text-align: right;\n",
       "    }\n",
       "</style>\n",
       "<table border=\"1\" class=\"dataframe\">\n",
       "  <thead>\n",
       "    <tr style=\"text-align: right;\">\n",
       "      <th></th>\n",
       "      <th>label</th>\n",
       "      <th>len</th>\n",
       "    </tr>\n",
       "  </thead>\n",
       "  <tbody>\n",
       "    <tr>\n",
       "      <th>count</th>\n",
       "      <td>54924.000000</td>\n",
       "      <td>54924.000000</td>\n",
       "    </tr>\n",
       "    <tr>\n",
       "      <th>mean</th>\n",
       "      <td>7.729954</td>\n",
       "      <td>9.155178</td>\n",
       "    </tr>\n",
       "    <tr>\n",
       "      <th>std</th>\n",
       "      <td>5.780235</td>\n",
       "      <td>3.070435</td>\n",
       "    </tr>\n",
       "    <tr>\n",
       "      <th>min</th>\n",
       "      <td>0.000000</td>\n",
       "      <td>2.000000</td>\n",
       "    </tr>\n",
       "    <tr>\n",
       "      <th>25%</th>\n",
       "      <td>2.000000</td>\n",
       "      <td>7.000000</td>\n",
       "    </tr>\n",
       "    <tr>\n",
       "      <th>50%</th>\n",
       "      <td>6.000000</td>\n",
       "      <td>9.000000</td>\n",
       "    </tr>\n",
       "    <tr>\n",
       "      <th>75%</th>\n",
       "      <td>13.000000</td>\n",
       "      <td>11.000000</td>\n",
       "    </tr>\n",
       "    <tr>\n",
       "      <th>max</th>\n",
       "      <td>18.000000</td>\n",
       "      <td>15.000000</td>\n",
       "    </tr>\n",
       "  </tbody>\n",
       "</table>\n",
       "</div>"
      ],
      "text/plain": [
       "              label           len\n",
       "count  54924.000000  54924.000000\n",
       "mean       7.729954      9.155178\n",
       "std        5.780235      3.070435\n",
       "min        0.000000      2.000000\n",
       "25%        2.000000      7.000000\n",
       "50%        6.000000      9.000000\n",
       "75%       13.000000     11.000000\n",
       "max       18.000000     15.000000"
      ]
     },
     "execution_count": 16,
     "metadata": {},
     "output_type": "execute_result"
    }
   ],
   "source": [
    "filter_idx = (df['len'] <= max_len)\n",
    "df = df[filter_idx]\n",
    "filter_idx = (df['len'] >= min_len)\n",
    "df = df[filter_idx]\n",
    "df.describe()"
   ]
  },
  {
   "cell_type": "code",
   "execution_count": 17,
   "metadata": {},
   "outputs": [
    {
     "name": "stderr",
     "output_type": "stream",
     "text": [
      "2021-11-28 04:50:49.250330: I tensorflow/core/common_runtime/gpu/gpu_device.cc:1510] Created device /job:localhost/replica:0/task:0/device:GPU:0 with 13440 MB memory:  -> device: 0, name: Quadro P5000, pci bus id: 0000:03:00.0, compute capability: 6.1\n",
      "2021-11-28 04:50:51.298997: I tensorflow/compiler/mlir/mlir_graph_optimization_pass.cc:185] None of the MLIR Optimization Passes are enabled (registered 2)\n"
     ]
    },
    {
     "name": "stdout",
     "output_type": "stream",
     "text": [
      "module https://tfhub.dev/google/universal-sentence-encoder/4 loaded\n"
     ]
    }
   ],
   "source": [
    "# Universal Sentence Encoder\n",
    "module_url = \"https://tfhub.dev/google/universal-sentence-encoder/4\" \n",
    "univ_model = hub.load(module_url)\n",
    "# univ_model = hub.load('models/use-4')\n",
    "print (\"module %s loaded\" % module_url)"
   ]
  },
  {
   "cell_type": "code",
   "execution_count": 18,
   "metadata": {},
   "outputs": [
    {
     "data": {
      "application/vnd.jupyter.widget-view+json": {
       "model_id": "86445118b78a4e07a904df319574dd84",
       "version_major": 2,
       "version_minor": 0
      },
      "text/plain": [
       "  0%|          | 0/54924 [00:00<?, ?it/s]"
      ]
     },
     "metadata": {},
     "output_type": "display_data"
    }
   ],
   "source": [
    "df['sent'] = df['tweet'].progress_apply(lambda x: np.array(univ_model([x])).flatten())"
   ]
  },
  {
   "cell_type": "code",
   "execution_count": 25,
   "metadata": {},
   "outputs": [],
   "source": [
    "def add_embeddings(data):\n",
    "    \n",
    "    emb_data = []\n",
    "    for word in data:\n",
    "        if word not in emb_model.key_to_index:\n",
    "            pass\n",
    "        else:\n",
    "            word_emb = emb_model[word] \n",
    "            emb_data.append(word_emb)\n",
    "        \n",
    "    # check if padding / clipping required\n",
    "    pad = False\n",
    "    clip = False\n",
    "    if len(emb_data) < max_pad_len:\n",
    "        pad = True\n",
    "    elif len(emb_data) > max_pad_len:\n",
    "        clip = True\n",
    "    else:\n",
    "        pad = clip = False\n",
    "        \n",
    "    # padding\n",
    "    if pad:\n",
    "        deficiency = max_pad_len - len(emb_data)\n",
    "        for pad in range(deficiency):\n",
    "            emb_data.append(np.zeros(embed_dim))\n",
    "            \n",
    "    elif clip:\n",
    "        # Taking last few tokens\n",
    "        surplus = len(emb_data) - max_pad_len\n",
    "        emb_data = emb_data[(-max_pad_len):]\n",
    "      \n",
    "    emb_data = np.array(emb_data, dtype=float)\n",
    "    # print(emb_data.shape, emb_data.shape==(max_pad_len, embed_dim))\n",
    "    \n",
    "    return emb_data\n"
   ]
  },
  {
   "cell_type": "code",
   "execution_count": 26,
   "metadata": {},
   "outputs": [
    {
     "data": {
      "application/vnd.jupyter.widget-view+json": {
       "model_id": "0c0df6eed1ab4cdda414b0fd9d8fa7a4",
       "version_major": 2,
       "version_minor": 0
      },
      "text/plain": [
       "  0%|          | 0/54924 [00:00<?, ?it/s]"
      ]
     },
     "metadata": {},
     "output_type": "display_data"
    }
   ],
   "source": [
    "df['emb_matrix'] = df['token'].progress_apply(add_embeddings)"
   ]
  },
  {
   "cell_type": "code",
   "execution_count": 27,
   "metadata": {},
   "outputs": [
    {
     "data": {
      "application/vnd.jupyter.widget-view+json": {
       "model_id": "b84c585bae284470ae13f16a7ec00385",
       "version_major": 2,
       "version_minor": 0
      },
      "text/plain": [
       "  0%|          | 0/54924 [00:00<?, ?it/s]"
      ]
     },
     "metadata": {},
     "output_type": "display_data"
    }
   ],
   "source": [
    "df['emb_flatten'] = df['emb_matrix'].progress_apply(lambda x: x.flatten())"
   ]
  },
  {
   "cell_type": "code",
   "execution_count": 28,
   "metadata": {},
   "outputs": [
    {
     "data": {
      "text/html": [
       "<div>\n",
       "<style scoped>\n",
       "    .dataframe tbody tr th:only-of-type {\n",
       "        vertical-align: middle;\n",
       "    }\n",
       "\n",
       "    .dataframe tbody tr th {\n",
       "        vertical-align: top;\n",
       "    }\n",
       "\n",
       "    .dataframe thead th {\n",
       "        text-align: right;\n",
       "    }\n",
       "</style>\n",
       "<table border=\"1\" class=\"dataframe\">\n",
       "  <thead>\n",
       "    <tr style=\"text-align: right;\">\n",
       "      <th></th>\n",
       "      <th>tweet</th>\n",
       "      <th>label</th>\n",
       "      <th>token</th>\n",
       "      <th>len</th>\n",
       "      <th>sent</th>\n",
       "      <th>emb_matrix</th>\n",
       "      <th>emb_flatten</th>\n",
       "    </tr>\n",
       "  </thead>\n",
       "  <tbody>\n",
       "    <tr>\n",
       "      <th>0</th>\n",
       "      <td>first behalf stupidians would like inform ever...</td>\n",
       "      <td>6</td>\n",
       "      <td>[first, behalf, stupidians, would, like, infor...</td>\n",
       "      <td>13</td>\n",
       "      <td>[-0.008306882, -0.039416127, -0.04187309, -0.0...</td>\n",
       "      <td>[[-0.29868000745773315, 0.30234000086784363, -...</td>\n",
       "      <td>[-0.29868000745773315, 0.30234000086784363, -0...</td>\n",
       "    </tr>\n",
       "    <tr>\n",
       "      <th>2</th>\n",
       "      <td>eid mubarak eid mubarak ha bhai day test days ...</td>\n",
       "      <td>2</td>\n",
       "      <td>[eid, mubarak, eid, mubarak, ha, bhai, day, te...</td>\n",
       "      <td>11</td>\n",
       "      <td>[0.0033559694, -0.06630455, 0.005606277, 0.001...</td>\n",
       "      <td>[[0.9207599759101868, 0.5291699767112732, -0.5...</td>\n",
       "      <td>[0.9207599759101868, 0.5291699767112732, -0.54...</td>\n",
       "    </tr>\n",
       "    <tr>\n",
       "      <th>3</th>\n",
       "      <td>little silent picture took st birthday one too...</td>\n",
       "      <td>1</td>\n",
       "      <td>[little, silent, picture, took, st, birthday, ...</td>\n",
       "      <td>13</td>\n",
       "      <td>[-0.0813372, -0.0011281285, 0.015300999, 0.040...</td>\n",
       "      <td>[[0.2847599983215332, 0.037039000540971756, 0....</td>\n",
       "      <td>[0.2847599983215332, 0.037039000540971756, 0.0...</td>\n",
       "    </tr>\n",
       "    <tr>\n",
       "      <th>4</th>\n",
       "      <td>salute girls eat flour bread instead flour flour</td>\n",
       "      <td>2</td>\n",
       "      <td>[salute, girls, eat, flour, bread, instead, fl...</td>\n",
       "      <td>8</td>\n",
       "      <td>[0.010586225, -0.01395171, 0.015433515, 0.0352...</td>\n",
       "      <td>[[0.019852999597787857, 0.23251000046730042, 0...</td>\n",
       "      <td>[0.019852999597787857, 0.23251000046730042, 0....</td>\n",
       "    </tr>\n",
       "    <tr>\n",
       "      <th>6</th>\n",
       "      <td>collected post womens society country agrees m...</td>\n",
       "      <td>11</td>\n",
       "      <td>[collected, post, womens, society, country, ag...</td>\n",
       "      <td>13</td>\n",
       "      <td>[-0.03689894, -0.029366875, -0.033071045, -0.0...</td>\n",
       "      <td>[[-0.5243600010871887, 0.3364500105381012, 0.2...</td>\n",
       "      <td>[-0.5243600010871887, 0.3364500105381012, 0.26...</td>\n",
       "    </tr>\n",
       "  </tbody>\n",
       "</table>\n",
       "</div>"
      ],
      "text/plain": [
       "                                               tweet  label  \\\n",
       "0  first behalf stupidians would like inform ever...      6   \n",
       "2  eid mubarak eid mubarak ha bhai day test days ...      2   \n",
       "3  little silent picture took st birthday one too...      1   \n",
       "4   salute girls eat flour bread instead flour flour      2   \n",
       "6  collected post womens society country agrees m...     11   \n",
       "\n",
       "                                               token  len  \\\n",
       "0  [first, behalf, stupidians, would, like, infor...   13   \n",
       "2  [eid, mubarak, eid, mubarak, ha, bhai, day, te...   11   \n",
       "3  [little, silent, picture, took, st, birthday, ...   13   \n",
       "4  [salute, girls, eat, flour, bread, instead, fl...    8   \n",
       "6  [collected, post, womens, society, country, ag...   13   \n",
       "\n",
       "                                                sent  \\\n",
       "0  [-0.008306882, -0.039416127, -0.04187309, -0.0...   \n",
       "2  [0.0033559694, -0.06630455, 0.005606277, 0.001...   \n",
       "3  [-0.0813372, -0.0011281285, 0.015300999, 0.040...   \n",
       "4  [0.010586225, -0.01395171, 0.015433515, 0.0352...   \n",
       "6  [-0.03689894, -0.029366875, -0.033071045, -0.0...   \n",
       "\n",
       "                                          emb_matrix  \\\n",
       "0  [[-0.29868000745773315, 0.30234000086784363, -...   \n",
       "2  [[0.9207599759101868, 0.5291699767112732, -0.5...   \n",
       "3  [[0.2847599983215332, 0.037039000540971756, 0....   \n",
       "4  [[0.019852999597787857, 0.23251000046730042, 0...   \n",
       "6  [[-0.5243600010871887, 0.3364500105381012, 0.2...   \n",
       "\n",
       "                                         emb_flatten  \n",
       "0  [-0.29868000745773315, 0.30234000086784363, -0...  \n",
       "2  [0.9207599759101868, 0.5291699767112732, -0.54...  \n",
       "3  [0.2847599983215332, 0.037039000540971756, 0.0...  \n",
       "4  [0.019852999597787857, 0.23251000046730042, 0....  \n",
       "6  [-0.5243600010871887, 0.3364500105381012, 0.26...  "
      ]
     },
     "execution_count": 28,
     "metadata": {},
     "output_type": "execute_result"
    }
   ],
   "source": [
    "df.head()"
   ]
  },
  {
   "cell_type": "code",
   "execution_count": 29,
   "metadata": {},
   "outputs": [
    {
     "name": "stdout",
     "output_type": "stream",
     "text": [
      "(54924, 2000)\n",
      "(54924, 512)\n"
     ]
    },
    {
     "data": {
      "text/plain": [
       "((54924, 2512), (54924,))"
      ]
     },
     "execution_count": 29,
     "metadata": {},
     "output_type": "execute_result"
    }
   ],
   "source": [
    "X_tok = np.array(list(df['emb_flatten'].to_numpy()))\n",
    "print(X_tok.shape)\n",
    "X_sent = np.array(list(df['sent'].to_numpy()))\n",
    "print(X_sent.shape)\n",
    "\n",
    "X = np.concatenate((X_tok, X_sent), axis=1)\n",
    "y = df['label'].values\n",
    "# y = to_categorical(y)\n",
    "X.shape, y.shape"
   ]
  },
  {
   "cell_type": "code",
   "execution_count": 45,
   "metadata": {},
   "outputs": [
    {
     "name": "stdout",
     "output_type": "stream",
     "text": [
      "(49431, 2512) (5493, 2512) (49431, 19) (5493, 19)\n"
     ]
    }
   ],
   "source": [
    "from sklearn.model_selection import train_test_split\n",
    "X_train, X_test, y_train, y_test = train_test_split(X, y, test_size=0.1, random_state=42)\n",
    "y_train = to_categorical(y_train)\n",
    "y_test = to_categorical(y_test)\n",
    "print(X_train.shape, X_test.shape, y_train.shape, y_test.shape)"
   ]
  },
  {
   "cell_type": "code",
   "execution_count": 46,
   "metadata": {},
   "outputs": [],
   "source": [
    "# X = np.array(list(df['emb_matrix'].to_numpy()))\n",
    "# y = df['label'].values\n",
    "# y = to_categorical(y)\n",
    "# X.shape, y.shape"
   ]
  },
  {
   "cell_type": "markdown",
   "metadata": {
    "tags": []
   },
   "source": [
    "### EmojiPred Architecture"
   ]
  },
  {
   "cell_type": "code",
   "execution_count": 47,
   "metadata": {},
   "outputs": [
    {
     "data": {
      "text/plain": [
       "((54924, 2512), (54924,))"
      ]
     },
     "execution_count": 47,
     "metadata": {},
     "output_type": "execute_result"
    }
   ],
   "source": [
    "X.shape, y.shape"
   ]
  },
  {
   "cell_type": "code",
   "execution_count": 48,
   "metadata": {},
   "outputs": [],
   "source": [
    "from keras.models import Model, Sequential\n",
    "from keras.layers.merge import concatenate\n",
    "from keras.layers import Input, Bidirectional, Embedding, Dense, Dropout, SpatialDropout1D, LSTM, Activation, GlobalMaxPool1D, Conv1D\n",
    "from keras.regularizers import L1L2\n",
    "from attention import AttentionWeightedAverage\n",
    "import numpy as np\n",
    "from copy import deepcopy\n",
    "from os.path import exists\n",
    "import h5py"
   ]
  },
  {
   "cell_type": "code",
   "execution_count": 49,
   "metadata": {},
   "outputs": [],
   "source": [
    "def emoji_pred(input_dim, num_classes):\n",
    "    # create model\n",
    "    model_input = Input(shape=input_dim)\n",
    "    \n",
    "    token = model_input[:,:2000]\n",
    "    print(token.shape)\n",
    "    token = tf.reshape(token, [tf.shape(token)[0], 10,200])\n",
    "    sent = model_input[:,-512:]\n",
    "    print(token.shape, sent.shape)\n",
    "    \n",
    "    x = Activation('relu')(token)\n",
    "    # x = Activation('relu')(token)\n",
    "    print(x.shape)\n",
    "    embed_drop = SpatialDropout1D(0.2, name='embed_drop')\n",
    "    x = embed_drop(x)\n",
    "    \n",
    "    # token embeddings are 200, sentence embeddings = 2000\n",
    "    lstm_0_output = Bidirectional(LSTM(400, return_sequences=True), name=\"bi_lstm_0\")(x)\n",
    "    print(x.shape)\n",
    "    lstm_1_output = Bidirectional(LSTM(400, return_sequences=True), name=\"bi_lstm_1\")(lstm_0_output)\n",
    "    print(x.shape)\n",
    "    x = concatenate([lstm_1_output, lstm_0_output, x])\n",
    "    print(x.shape)\n",
    "    x = GlobalMaxPool1D()(x)\n",
    "    print(x.shape)\n",
    "    # x = AttentionWeightedAverage(name='attlayer', return_attention=False)(x)\n",
    "    \n",
    "    # Concatenate sentence embeddings\n",
    "    sent = Dense(200, activation='relu', name='FC-1')(sent)\n",
    "    print(sent.shape)\n",
    "    x = concatenate([x, sent])\n",
    "    print(x.shape)\n",
    "    outputs = [Dense(num_classes, activation='softmax', name='softmax')(x)]\n",
    "    # print(outputs.shape)\n",
    "    \n",
    "    model = Model(inputs=[model_input], outputs=outputs, name=\"EmojiPredHindi\")\n",
    "    # compile model\n",
    "    model.compile(optimizer='adam', loss='categorical_crossentropy', metrics=['accuracy'])\n",
    "    return model"
   ]
  },
  {
   "cell_type": "code",
   "execution_count": 50,
   "metadata": {},
   "outputs": [
    {
     "name": "stdout",
     "output_type": "stream",
     "text": [
      "(None, 2000)\n",
      "(None, 10, 200) (None, 512)\n",
      "(None, 10, 200)\n",
      "(None, 10, 200)\n",
      "(None, 10, 200)\n",
      "(None, 10, 1800)\n",
      "(None, 1800)\n",
      "(None, 200)\n",
      "(None, 2000)\n",
      "Epoch 1/5\n",
      "1391/1391 - 20s - loss: 2.3510 - accuracy: 0.2021 - val_loss: 2.3010 - val_accuracy: 0.2199\n",
      "Epoch 2/5\n",
      "1391/1391 - 15s - loss: 2.2693 - accuracy: 0.2255 - val_loss: 2.3057 - val_accuracy: 0.2136\n",
      "Epoch 3/5\n",
      "1391/1391 - 15s - loss: 2.2218 - accuracy: 0.2407 - val_loss: 2.2750 - val_accuracy: 0.2259\n",
      "Epoch 4/5\n",
      "1391/1391 - 15s - loss: 2.1731 - accuracy: 0.2569 - val_loss: 2.2885 - val_accuracy: 0.2265\n",
      "Epoch 5/5\n",
      "1391/1391 - 15s - loss: 2.1092 - accuracy: 0.2808 - val_loss: 2.2957 - val_accuracy: 0.2278\n",
      ">>> Accuracy of model = 23.6847 %\n",
      "\n",
      "              precision    recall  f1-score   support\n",
      "\n",
      "           0       0.18      0.07      0.10       299\n",
      "           1       0.16      0.13      0.14       463\n",
      "           2       0.23      0.64      0.34       858\n",
      "           3       0.00      0.00      0.00        67\n",
      "           4       0.36      0.10      0.16        40\n",
      "           5       0.21      0.41      0.28       738\n",
      "           6       0.21      0.06      0.09       605\n",
      "           7       0.00      0.00      0.00        30\n",
      "           8       0.00      0.00      0.00        69\n",
      "           9       0.09      0.01      0.03       202\n",
      "          10       0.40      0.10      0.16        60\n",
      "          11       0.68      0.70      0.69       260\n",
      "          12       0.26      0.25      0.25       427\n",
      "          13       0.17      0.00      0.01       312\n",
      "          14       0.00      0.00      0.00        20\n",
      "          15       0.14      0.05      0.07       463\n",
      "          16       0.00      0.00      0.00         3\n",
      "          17       1.00      0.25      0.40         4\n",
      "          18       0.17      0.02      0.03       573\n",
      "\n",
      "    accuracy                           0.24      5493\n",
      "   macro avg       0.22      0.15      0.14      5493\n",
      "weighted avg       0.21      0.24      0.18      5493\n",
      "\n"
     ]
    },
    {
     "name": "stderr",
     "output_type": "stream",
     "text": [
      "/home/sumanyu/anaconda3/envs/ep/lib/python3.8/site-packages/sklearn/metrics/_classification.py:1308: UndefinedMetricWarning: Precision and F-score are ill-defined and being set to 0.0 in labels with no predicted samples. Use `zero_division` parameter to control this behavior.\n",
      "  _warn_prf(average, modifier, msg_start, len(result))\n",
      "/home/sumanyu/anaconda3/envs/ep/lib/python3.8/site-packages/sklearn/metrics/_classification.py:1308: UndefinedMetricWarning: Precision and F-score are ill-defined and being set to 0.0 in labels with no predicted samples. Use `zero_division` parameter to control this behavior.\n",
      "  _warn_prf(average, modifier, msg_start, len(result))\n",
      "/home/sumanyu/anaconda3/envs/ep/lib/python3.8/site-packages/sklearn/metrics/_classification.py:1308: UndefinedMetricWarning: Precision and F-score are ill-defined and being set to 0.0 in labels with no predicted samples. Use `zero_division` parameter to control this behavior.\n",
      "  _warn_prf(average, modifier, msg_start, len(result))\n"
     ]
    }
   ],
   "source": [
    "# Call model\n",
    "mlp_model = emoji_pred((2512,), num_classes)\n",
    "history = mlp_model.fit(X_train, y_train, validation_split=0.1, epochs=5, verbose=2)\n",
    "\n",
    "# Predictions\n",
    "y_pred_cat = mlp_model.predict(X_test)\n",
    "y_pred = np.argmax(y_pred_cat, axis=1)\n",
    "\n",
    "# Accuracy\n",
    "result = mlp_model.evaluate(X_test, y_test, verbose=0)\n",
    "model_accuracy = result[1]\n",
    "y_test = np.argmax(y_test, axis=1)\n",
    "# model_precision = metrics.precision_score(y_test, y_pred, average='weighted')\n",
    "# model_recall = metrics.recall_score(y_test, y_pred, average='weighted')\n",
    "# model_f1 = metrics.f1_score(y_test, y_pred, average='weighted')\n",
    "\n",
    "print(f\">>> Accuracy of model = {(100*model_accuracy):.4f} %\\n\")\n",
    "print(classification_report(y_test, y_pred))"
   ]
  },
  {
   "cell_type": "code",
   "execution_count": null,
   "metadata": {},
   "outputs": [],
   "source": [
    "# Accuracy\n",
    "result = mlp_model.evaluate(X, y, verbose=0)\n",
    "model_accuracy = result[1]\n",
    "print(model_accuracy)"
   ]
  },
  {
   "cell_type": "markdown",
   "metadata": {},
   "source": [
    "## Top 5 accuracy\n",
    "If any of model's top-5 predictions matches with the correct result, set 1\n",
    "\n"
   ]
  },
  {
   "cell_type": "code",
   "execution_count": 52,
   "metadata": {},
   "outputs": [],
   "source": [
    "def top_5_acc(y_test, y_pred_cat):\n",
    "    n = y_pred_cat.shape[0]\n",
    "    plen = y_pred_cat.shape[1]\n",
    "    top_5 = np.zeros(n)\n",
    "    \n",
    "    for i in range(n):\n",
    "        true_val = y_test[i]\n",
    "        pred_prob = y_pred_cat[i]\n",
    "        pred_prob = [(pred_prob[j], j) for j in range(plen)]\n",
    "        pred_prob = sorted(pred_prob)[::-1]\n",
    "        pred_prob = pred_prob[:5]\n",
    "        pred_labels = [k[1] for k in pred_prob]\n",
    "        # print(pred_labels)\n",
    "        if true_val in pred_labels:\n",
    "            top_5[i] = 1\n",
    "    \n",
    "    return np.mean(top_5)*100"
   ]
  },
  {
   "cell_type": "code",
   "execution_count": 53,
   "metadata": {},
   "outputs": [
    {
     "name": "stdout",
     "output_type": "stream",
     "text": [
      "Top-5 accuracy of model = 69.5977\n"
     ]
    }
   ],
   "source": [
    "print(f\"Top-5 accuracy of model = {top_5_acc(y_test, y_pred_cat):.4f}\")"
   ]
  },
  {
   "cell_type": "code",
   "execution_count": 54,
   "metadata": {},
   "outputs": [],
   "source": [
    "mlp_model.save('models/emoji_pred_bengali.h5')"
   ]
  },
  {
   "cell_type": "markdown",
   "metadata": {},
   "source": [
    "### Plot Acc and loss curves"
   ]
  },
  {
   "cell_type": "markdown",
   "metadata": {},
   "source": [
    "Accuracy"
   ]
  },
  {
   "cell_type": "code",
   "execution_count": 65,
   "metadata": {
    "tags": []
   },
   "outputs": [
    {
     "data": {
      "image/png": "[encoded data removed]",
      "text/plain": [
       "<Figure size 432x288 with 1 Axes>"
      ]
     },
     "metadata": {
      "needs_background": "light"
     },
     "output_type": "display_data"
    }
   ],
   "source": [
    "plt.plot(history.history['accuracy'])\n",
    "plt.plot(history.history['val_accuracy'])\n",
    "plt.title(lang+' model accuracy')\n",
    "plt.ylabel('accuracy')\n",
    "plt.xlabel('epoch')\n",
    "plt.legend(['train', 'val'], loc='upper left')\n",
    "plt.savefig('assets/'+lang+'_acc.png', dpi=300)\n",
    "plt.show()"
   ]
  },
  {
   "cell_type": "markdown",
   "metadata": {},
   "source": [
    "Loss"
   ]
  },
  {
   "cell_type": "code",
   "execution_count": 71,
   "metadata": {},
   "outputs": [
    {
     "data": {
      "image/png": "[encoded data removed]",
      "text/plain": [
       "<Figure size 432x288 with 1 Axes>"
      ]
     },
     "metadata": {
      "needs_background": "light"
     },
     "output_type": "display_data"
    }
   ],
   "source": [
    "plt.plot(history.history['loss'])\n",
    "plt.plot(history.history['val_loss'])\n",
    "plt.title(lang+' model loss')\n",
    "plt.ylabel('loss')\n",
    "plt.xlabel('epoch')\n",
    "plt.legend(['train', 'val'], loc='upper left')\n",
    "plt.savefig('assets/'+lang+'_loss.png', dpi=300)\n",
    "plt.show()"
   ]
  },
  {
   "cell_type": "markdown",
   "metadata": {},
   "source": [
    "### Causal Convolution"
   ]
  },
  {
   "cell_type": "code",
   "execution_count": 88,
   "metadata": {},
   "outputs": [],
   "source": [
    "def emoji_pred_conv(input_dim, num_classes):\n",
    "    # create model\n",
    "    model_input = Input(shape=input_dim)\n",
    "    x = Activation('relu')(model_input)\n",
    "    print(x.shape)\n",
    "    embed_drop = SpatialDropout1D(0.2, name='embed_drop')\n",
    "    x = embed_drop(x)\n",
    "    \n",
    "    conv_1 = Conv1D(512, 3, dilation_rate = [1], padding='causal', activation='relu',name = 'conv_1')(x)\n",
    "    print(x.shape)\n",
    "    conv_2 = Conv1D(256, 3, dilation_rate = [2], padding='causal', activation = 'relu',name = 'conv_2')(conv_1)\n",
    "    print(x.shape)\n",
    "    conv_3 = Conv1D(128, 3, dilation_rate = [3], padding='causal', activation = 'relu',name = 'conv_3')(conv_2)\n",
    "    print(x.shape)\n",
    "    \n",
    "    # # token embeddings are 200, sentence embeddings = 2000\n",
    "    # lstm_0_output = Bidirectional(LSTM(400, return_sequences=True), name=\"bi_lstm_0\")(x)\n",
    "    # print(x.shape)\n",
    "    # lstm_1_output = Bidirectional(LSTM(400, return_sequences=True), name=\"bi_lstm_1\")(lstm_0_output)\n",
    "    # print(x.shape)\n",
    "    # x = concatenate([lstm_1_output, lstm_0_output, x])\n",
    "    x = concatenate([conv_3, conv_2, conv_1, x])\n",
    "    print(x.shape)\n",
    "    x = GlobalMaxPool1D()(x)\n",
    "    print(x.shape)\n",
    "    # x = AttentionWeightedAverage(name='attlayer', return_attention=False)(x)\n",
    "    outputs = [Dense(num_classes, activation='softmax', name='softmax')(x)]\n",
    "    # print(outputs.shape)\n",
    "    \n",
    "    model = Model(inputs=[model_input], outputs=outputs, name=\"EmojiPredConv\")\n",
    "    # compile model\n",
    "    model.compile(optimizer='adam', loss='categorical_crossentropy', metrics=['accuracy'])\n",
    "    return model"
   ]
  },
  {
   "cell_type": "code",
   "execution_count": 89,
   "metadata": {},
   "outputs": [
    {
     "name": "stdout",
     "output_type": "stream",
     "text": [
      "(None, 10, 200)\n",
      "(None, 10, 200)\n",
      "(None, 10, 200)\n",
      "(None, 10, 200)\n",
      "(None, 10, 1096)\n",
      "(None, 1096)\n",
      "Epoch 1/100\n",
      "1962/1962 - 13s - loss: 2.4596 - accuracy: 0.2830 - val_loss: 2.3376 - val_accuracy: 0.3072\n",
      "Epoch 2/100\n",
      "1962/1962 - 12s - loss: 2.3131 - accuracy: 0.3199 - val_loss: 2.2464 - val_accuracy: 0.3342\n",
      "Epoch 3/100\n",
      "1962/1962 - 12s - loss: 2.2375 - accuracy: 0.3381 - val_loss: 2.1949 - val_accuracy: 0.3459\n",
      "Epoch 4/100\n",
      "1962/1962 - 12s - loss: 2.1626 - accuracy: 0.3546 - val_loss: 2.1277 - val_accuracy: 0.3591\n",
      "Epoch 5/100\n",
      "1962/1962 - 12s - loss: 2.0821 - accuracy: 0.3714 - val_loss: 2.0782 - val_accuracy: 0.3732\n",
      "Epoch 6/100\n",
      "1962/1962 - 12s - loss: 1.9861 - accuracy: 0.3960 - val_loss: 2.0048 - val_accuracy: 0.3890\n",
      "Epoch 7/100\n",
      "1962/1962 - 12s - loss: 1.8893 - accuracy: 0.4193 - val_loss: 1.9704 - val_accuracy: 0.4043\n",
      "Epoch 8/100\n",
      "1962/1962 - 12s - loss: 1.7957 - accuracy: 0.4428 - val_loss: 1.9057 - val_accuracy: 0.4239\n",
      "Epoch 9/100\n",
      "1962/1962 - 12s - loss: 1.6988 - accuracy: 0.4721 - val_loss: 1.8610 - val_accuracy: 0.4409\n",
      "Epoch 10/100\n",
      "1962/1962 - 12s - loss: 1.6119 - accuracy: 0.4935 - val_loss: 1.8192 - val_accuracy: 0.4552\n",
      "Epoch 11/100\n",
      "1962/1962 - 12s - loss: 1.5303 - accuracy: 0.5203 - val_loss: 1.8109 - val_accuracy: 0.4677\n",
      "Epoch 12/100\n",
      "1962/1962 - 12s - loss: 1.4589 - accuracy: 0.5385 - val_loss: 1.7565 - val_accuracy: 0.4859\n",
      "Epoch 13/100\n",
      "1962/1962 - 12s - loss: 1.3849 - accuracy: 0.5609 - val_loss: 1.7622 - val_accuracy: 0.4926\n",
      "Epoch 14/100\n",
      "1962/1962 - 12s - loss: 1.3266 - accuracy: 0.5773 - val_loss: 1.7607 - val_accuracy: 0.4984\n",
      "Epoch 15/100\n",
      "1962/1962 - 12s - loss: 1.2722 - accuracy: 0.5925 - val_loss: 1.7449 - val_accuracy: 0.5163\n",
      "Epoch 16/100\n",
      "1962/1962 - 12s - loss: 1.2145 - accuracy: 0.6089 - val_loss: 1.7303 - val_accuracy: 0.5148\n",
      "Epoch 17/100\n",
      "1962/1962 - 12s - loss: 1.1696 - accuracy: 0.6237 - val_loss: 1.7725 - val_accuracy: 0.5191\n",
      "Epoch 18/100\n",
      "1962/1962 - 12s - loss: 1.1351 - accuracy: 0.6346 - val_loss: 1.7622 - val_accuracy: 0.5236\n",
      "Epoch 19/100\n",
      "1962/1962 - 12s - loss: 1.0818 - accuracy: 0.6516 - val_loss: 1.7565 - val_accuracy: 0.5323\n",
      "Epoch 20/100\n",
      "1962/1962 - 12s - loss: 1.0561 - accuracy: 0.6576 - val_loss: 1.7588 - val_accuracy: 0.5451\n",
      "Epoch 21/100\n",
      "1962/1962 - 12s - loss: 1.0261 - accuracy: 0.6683 - val_loss: 1.7449 - val_accuracy: 0.5583\n",
      "Epoch 22/100\n",
      "1962/1962 - 12s - loss: 0.9873 - accuracy: 0.6812 - val_loss: 1.7965 - val_accuracy: 0.5445\n",
      "Epoch 23/100\n",
      "1962/1962 - 12s - loss: 0.9651 - accuracy: 0.6877 - val_loss: 1.7964 - val_accuracy: 0.5578\n",
      "Epoch 24/100\n",
      "1962/1962 - 12s - loss: 0.9351 - accuracy: 0.6971 - val_loss: 1.8071 - val_accuracy: 0.5587\n",
      "Epoch 25/100\n",
      "1962/1962 - 12s - loss: 0.9158 - accuracy: 0.7026 - val_loss: 1.8738 - val_accuracy: 0.5564\n",
      "Epoch 26/100\n",
      "1962/1962 - 12s - loss: 0.9013 - accuracy: 0.7082 - val_loss: 1.8678 - val_accuracy: 0.5507\n",
      "Epoch 27/100\n",
      "1962/1962 - 12s - loss: 0.8827 - accuracy: 0.7136 - val_loss: 1.8689 - val_accuracy: 0.5576\n",
      "Epoch 28/100\n",
      "1962/1962 - 12s - loss: 0.8530 - accuracy: 0.7249 - val_loss: 1.8628 - val_accuracy: 0.5609\n",
      "Epoch 29/100\n",
      "1962/1962 - 12s - loss: 0.8343 - accuracy: 0.7299 - val_loss: 1.9783 - val_accuracy: 0.5503\n",
      "Epoch 30/100\n",
      "1962/1962 - 12s - loss: 0.8229 - accuracy: 0.7335 - val_loss: 1.9433 - val_accuracy: 0.5634\n",
      "Epoch 31/100\n",
      "1962/1962 - 12s - loss: 0.8071 - accuracy: 0.7392 - val_loss: 1.9303 - val_accuracy: 0.5665\n",
      "Epoch 32/100\n",
      "1962/1962 - 12s - loss: 0.8000 - accuracy: 0.7438 - val_loss: 1.9491 - val_accuracy: 0.5699\n",
      "Epoch 33/100\n",
      "1962/1962 - 12s - loss: 0.7838 - accuracy: 0.7472 - val_loss: 1.9835 - val_accuracy: 0.5639\n",
      "Epoch 34/100\n",
      "1962/1962 - 12s - loss: 0.7648 - accuracy: 0.7540 - val_loss: 1.9670 - val_accuracy: 0.5795\n",
      "Epoch 35/100\n",
      "1962/1962 - 12s - loss: 0.7647 - accuracy: 0.7561 - val_loss: 2.0371 - val_accuracy: 0.5623\n",
      "Epoch 36/100\n",
      "1962/1962 - 12s - loss: 0.7449 - accuracy: 0.7615 - val_loss: 2.0139 - val_accuracy: 0.5742\n",
      "Epoch 37/100\n",
      "1962/1962 - 12s - loss: 0.7405 - accuracy: 0.7643 - val_loss: 2.0283 - val_accuracy: 0.5804\n",
      "Epoch 38/100\n",
      "1962/1962 - 12s - loss: 0.7342 - accuracy: 0.7678 - val_loss: 2.0458 - val_accuracy: 0.5814\n",
      "Epoch 39/100\n",
      "1962/1962 - 12s - loss: 0.7214 - accuracy: 0.7713 - val_loss: 2.0937 - val_accuracy: 0.5709\n",
      "Epoch 40/100\n",
      "1962/1962 - 12s - loss: 0.7037 - accuracy: 0.7771 - val_loss: 2.1046 - val_accuracy: 0.5816\n",
      "Epoch 41/100\n",
      "1962/1962 - 12s - loss: 0.7051 - accuracy: 0.7761 - val_loss: 2.0834 - val_accuracy: 0.5865\n",
      "Epoch 42/100\n",
      "1962/1962 - 12s - loss: 0.6871 - accuracy: 0.7820 - val_loss: 2.1263 - val_accuracy: 0.5808\n",
      "Epoch 43/100\n",
      "1962/1962 - 12s - loss: 0.6889 - accuracy: 0.7824 - val_loss: 2.1039 - val_accuracy: 0.5871\n",
      "Epoch 44/100\n",
      "1962/1962 - 12s - loss: 0.6785 - accuracy: 0.7843 - val_loss: 2.1410 - val_accuracy: 0.5845\n",
      "Epoch 45/100\n",
      "1962/1962 - 12s - loss: 0.6674 - accuracy: 0.7884 - val_loss: 2.1280 - val_accuracy: 0.5786\n",
      "Epoch 46/100\n",
      "1962/1962 - 12s - loss: 0.6654 - accuracy: 0.7903 - val_loss: 2.1877 - val_accuracy: 0.5878\n",
      "Epoch 47/100\n",
      "1962/1962 - 12s - loss: 0.6511 - accuracy: 0.7971 - val_loss: 2.1940 - val_accuracy: 0.5824\n",
      "Epoch 48/100\n",
      "1962/1962 - 12s - loss: 0.6533 - accuracy: 0.7951 - val_loss: 2.2446 - val_accuracy: 0.5890\n",
      "Epoch 49/100\n",
      "1962/1962 - 12s - loss: 0.6397 - accuracy: 0.7994 - val_loss: 2.2120 - val_accuracy: 0.5828\n",
      "Epoch 50/100\n",
      "1962/1962 - 12s - loss: 0.6363 - accuracy: 0.8011 - val_loss: 2.2647 - val_accuracy: 0.5821\n",
      "Epoch 51/100\n",
      "1962/1962 - 12s - loss: 0.6243 - accuracy: 0.8027 - val_loss: 2.2340 - val_accuracy: 0.5824\n",
      "Epoch 52/100\n",
      "1962/1962 - 12s - loss: 0.6248 - accuracy: 0.8064 - val_loss: 2.2559 - val_accuracy: 0.5824\n",
      "Epoch 53/100\n",
      "1962/1962 - 12s - loss: 0.6200 - accuracy: 0.8057 - val_loss: 2.2550 - val_accuracy: 0.5924\n",
      "Epoch 54/100\n",
      "1962/1962 - 12s - loss: 0.6120 - accuracy: 0.8085 - val_loss: 2.2853 - val_accuracy: 0.5913\n",
      "Epoch 55/100\n",
      "1962/1962 - 12s - loss: 0.6084 - accuracy: 0.8116 - val_loss: 2.2578 - val_accuracy: 0.5897\n",
      "Epoch 56/100\n",
      "1962/1962 - 12s - loss: 0.6053 - accuracy: 0.8113 - val_loss: 2.3139 - val_accuracy: 0.5930\n",
      "Epoch 57/100\n",
      "1962/1962 - 12s - loss: 0.6067 - accuracy: 0.8124 - val_loss: 2.3257 - val_accuracy: 0.5917\n",
      "Epoch 58/100\n",
      "1962/1962 - 12s - loss: 0.5961 - accuracy: 0.8159 - val_loss: 2.2976 - val_accuracy: 0.5997\n",
      "Epoch 59/100\n",
      "1962/1962 - 12s - loss: 0.5842 - accuracy: 0.8216 - val_loss: 2.3755 - val_accuracy: 0.5940\n",
      "Epoch 60/100\n",
      "1962/1962 - 12s - loss: 0.5882 - accuracy: 0.8190 - val_loss: 2.4149 - val_accuracy: 0.5835\n",
      "Epoch 61/100\n",
      "1962/1962 - 12s - loss: 0.5920 - accuracy: 0.8192 - val_loss: 2.4291 - val_accuracy: 0.5913\n",
      "Epoch 62/100\n",
      "1962/1962 - 12s - loss: 0.5799 - accuracy: 0.8228 - val_loss: 2.3754 - val_accuracy: 0.5917\n",
      "Epoch 63/100\n",
      "1962/1962 - 12s - loss: 0.5775 - accuracy: 0.8242 - val_loss: 2.4340 - val_accuracy: 0.5872\n",
      "Epoch 64/100\n",
      "1962/1962 - 12s - loss: 0.5726 - accuracy: 0.8245 - val_loss: 2.4644 - val_accuracy: 0.5950\n",
      "Epoch 65/100\n",
      "1962/1962 - 12s - loss: 0.5732 - accuracy: 0.8266 - val_loss: 2.3904 - val_accuracy: 0.5981\n",
      "Epoch 66/100\n",
      "1962/1962 - 12s - loss: 0.5716 - accuracy: 0.8280 - val_loss: 2.3984 - val_accuracy: 0.5904\n",
      "Epoch 67/100\n",
      "1962/1962 - 12s - loss: 0.5680 - accuracy: 0.8273 - val_loss: 2.4420 - val_accuracy: 0.5970\n",
      "Epoch 68/100\n",
      "1962/1962 - 12s - loss: 0.5577 - accuracy: 0.8318 - val_loss: 2.4574 - val_accuracy: 0.5818\n",
      "Epoch 69/100\n",
      "1962/1962 - 12s - loss: 0.5588 - accuracy: 0.8299 - val_loss: 2.4686 - val_accuracy: 0.5993\n",
      "Epoch 70/100\n",
      "1962/1962 - 12s - loss: 0.5579 - accuracy: 0.8322 - val_loss: 2.4284 - val_accuracy: 0.5940\n",
      "Epoch 71/100\n",
      "1962/1962 - 12s - loss: 0.5563 - accuracy: 0.8330 - val_loss: 2.4184 - val_accuracy: 0.6003\n",
      "Epoch 72/100\n",
      "1962/1962 - 12s - loss: 0.5444 - accuracy: 0.8367 - val_loss: 2.5115 - val_accuracy: 0.5871\n",
      "Epoch 73/100\n",
      "1962/1962 - 12s - loss: 0.5552 - accuracy: 0.8334 - val_loss: 2.4927 - val_accuracy: 0.5984\n",
      "Epoch 74/100\n",
      "1962/1962 - 12s - loss: 0.5478 - accuracy: 0.8371 - val_loss: 2.4764 - val_accuracy: 0.6044\n",
      "Epoch 75/100\n",
      "1962/1962 - 12s - loss: 0.5415 - accuracy: 0.8389 - val_loss: 2.4872 - val_accuracy: 0.5983\n",
      "Epoch 76/100\n",
      "1962/1962 - 12s - loss: 0.5407 - accuracy: 0.8403 - val_loss: 2.5167 - val_accuracy: 0.6030\n",
      "Epoch 77/100\n",
      "1962/1962 - 12s - loss: 0.5378 - accuracy: 0.8405 - val_loss: 2.5511 - val_accuracy: 0.6039\n",
      "Epoch 78/100\n",
      "1962/1962 - 12s - loss: 0.5386 - accuracy: 0.8393 - val_loss: 2.5907 - val_accuracy: 0.5940\n",
      "Epoch 79/100\n"
     ]
    },
    {
     "ename": "KeyboardInterrupt",
     "evalue": "",
     "output_type": "error",
     "traceback": [
      "\u001b[0;31m---------------------------------------------------------------------------\u001b[0m",
      "\u001b[0;31mKeyboardInterrupt\u001b[0m                         Traceback (most recent call last)",
      "\u001b[0;32m/tmp/ipykernel_24252/3611772600.py\u001b[0m in \u001b[0;36m<module>\u001b[0;34m\u001b[0m\n\u001b[1;32m      1\u001b[0m \u001b[0;31m# Call model\u001b[0m\u001b[0;34m\u001b[0m\u001b[0;34m\u001b[0m\u001b[0;34m\u001b[0m\u001b[0m\n\u001b[1;32m      2\u001b[0m \u001b[0mmlp_model\u001b[0m \u001b[0;34m=\u001b[0m \u001b[0memoji_pred_conv\u001b[0m\u001b[0;34m(\u001b[0m\u001b[0;34m(\u001b[0m\u001b[0;36m10\u001b[0m\u001b[0;34m,\u001b[0m\u001b[0;36m200\u001b[0m\u001b[0;34m)\u001b[0m\u001b[0;34m,\u001b[0m \u001b[0mnum_classes\u001b[0m\u001b[0;34m)\u001b[0m\u001b[0;34m\u001b[0m\u001b[0;34m\u001b[0m\u001b[0m\n\u001b[0;32m----> 3\u001b[0;31m \u001b[0mhistory\u001b[0m \u001b[0;34m=\u001b[0m \u001b[0mmlp_model\u001b[0m\u001b[0;34m.\u001b[0m\u001b[0mfit\u001b[0m\u001b[0;34m(\u001b[0m\u001b[0mX\u001b[0m\u001b[0;34m,\u001b[0m \u001b[0my\u001b[0m\u001b[0;34m,\u001b[0m \u001b[0mvalidation_split\u001b[0m\u001b[0;34m=\u001b[0m\u001b[0;36m0.1\u001b[0m\u001b[0;34m,\u001b[0m \u001b[0mepochs\u001b[0m\u001b[0;34m=\u001b[0m\u001b[0;36m100\u001b[0m\u001b[0;34m,\u001b[0m \u001b[0mverbose\u001b[0m\u001b[0;34m=\u001b[0m\u001b[0;36m2\u001b[0m\u001b[0;34m)\u001b[0m\u001b[0;34m\u001b[0m\u001b[0;34m\u001b[0m\u001b[0m\n\u001b[0m\u001b[1;32m      4\u001b[0m \u001b[0;34m\u001b[0m\u001b[0m\n\u001b[1;32m      5\u001b[0m \u001b[0;31m# Predictions\u001b[0m\u001b[0;34m\u001b[0m\u001b[0;34m\u001b[0m\u001b[0;34m\u001b[0m\u001b[0m\n",
      "\u001b[0;32m~/anaconda3/envs/ep/lib/python3.8/site-packages/keras/engine/training.py\u001b[0m in \u001b[0;36mfit\u001b[0;34m(self, x, y, batch_size, epochs, verbose, callbacks, validation_split, validation_data, shuffle, class_weight, sample_weight, initial_epoch, steps_per_epoch, validation_steps, validation_batch_size, validation_freq, max_queue_size, workers, use_multiprocessing)\u001b[0m\n\u001b[1;32m   1182\u001b[0m                 _r=1):\n\u001b[1;32m   1183\u001b[0m               \u001b[0mcallbacks\u001b[0m\u001b[0;34m.\u001b[0m\u001b[0mon_train_batch_begin\u001b[0m\u001b[0;34m(\u001b[0m\u001b[0mstep\u001b[0m\u001b[0;34m)\u001b[0m\u001b[0;34m\u001b[0m\u001b[0;34m\u001b[0m\u001b[0m\n\u001b[0;32m-> 1184\u001b[0;31m               \u001b[0mtmp_logs\u001b[0m \u001b[0;34m=\u001b[0m \u001b[0mself\u001b[0m\u001b[0;34m.\u001b[0m\u001b[0mtrain_function\u001b[0m\u001b[0;34m(\u001b[0m\u001b[0miterator\u001b[0m\u001b[0;34m)\u001b[0m\u001b[0;34m\u001b[0m\u001b[0;34m\u001b[0m\u001b[0m\n\u001b[0m\u001b[1;32m   1185\u001b[0m               \u001b[0;32mif\u001b[0m \u001b[0mdata_handler\u001b[0m\u001b[0;34m.\u001b[0m\u001b[0mshould_sync\u001b[0m\u001b[0;34m:\u001b[0m\u001b[0;34m\u001b[0m\u001b[0;34m\u001b[0m\u001b[0m\n\u001b[1;32m   1186\u001b[0m                 \u001b[0mcontext\u001b[0m\u001b[0;34m.\u001b[0m\u001b[0masync_wait\u001b[0m\u001b[0;34m(\u001b[0m\u001b[0;34m)\u001b[0m\u001b[0;34m\u001b[0m\u001b[0;34m\u001b[0m\u001b[0m\n",
      "\u001b[0;32m~/anaconda3/envs/ep/lib/python3.8/site-packages/tensorflow/python/eager/def_function.py\u001b[0m in \u001b[0;36m__call__\u001b[0;34m(self, *args, **kwds)\u001b[0m\n\u001b[1;32m    883\u001b[0m \u001b[0;34m\u001b[0m\u001b[0m\n\u001b[1;32m    884\u001b[0m       \u001b[0;32mwith\u001b[0m \u001b[0mOptionalXlaContext\u001b[0m\u001b[0;34m(\u001b[0m\u001b[0mself\u001b[0m\u001b[0;34m.\u001b[0m\u001b[0m_jit_compile\u001b[0m\u001b[0;34m)\u001b[0m\u001b[0;34m:\u001b[0m\u001b[0;34m\u001b[0m\u001b[0;34m\u001b[0m\u001b[0m\n\u001b[0;32m--> 885\u001b[0;31m         \u001b[0mresult\u001b[0m \u001b[0;34m=\u001b[0m \u001b[0mself\u001b[0m\u001b[0;34m.\u001b[0m\u001b[0m_call\u001b[0m\u001b[0;34m(\u001b[0m\u001b[0;34m*\u001b[0m\u001b[0margs\u001b[0m\u001b[0;34m,\u001b[0m \u001b[0;34m**\u001b[0m\u001b[0mkwds\u001b[0m\u001b[0;34m)\u001b[0m\u001b[0;34m\u001b[0m\u001b[0;34m\u001b[0m\u001b[0m\n\u001b[0m\u001b[1;32m    886\u001b[0m \u001b[0;34m\u001b[0m\u001b[0m\n\u001b[1;32m    887\u001b[0m       \u001b[0mnew_tracing_count\u001b[0m \u001b[0;34m=\u001b[0m \u001b[0mself\u001b[0m\u001b[0;34m.\u001b[0m\u001b[0mexperimental_get_tracing_count\u001b[0m\u001b[0;34m(\u001b[0m\u001b[0;34m)\u001b[0m\u001b[0;34m\u001b[0m\u001b[0;34m\u001b[0m\u001b[0m\n",
      "\u001b[0;32m~/anaconda3/envs/ep/lib/python3.8/site-packages/tensorflow/python/eager/def_function.py\u001b[0m in \u001b[0;36m_call\u001b[0;34m(self, *args, **kwds)\u001b[0m\n\u001b[1;32m    915\u001b[0m       \u001b[0;31m# In this case we have created variables on the first call, so we run the\u001b[0m\u001b[0;34m\u001b[0m\u001b[0;34m\u001b[0m\u001b[0;34m\u001b[0m\u001b[0m\n\u001b[1;32m    916\u001b[0m       \u001b[0;31m# defunned version which is guaranteed to never create variables.\u001b[0m\u001b[0;34m\u001b[0m\u001b[0;34m\u001b[0m\u001b[0;34m\u001b[0m\u001b[0m\n\u001b[0;32m--> 917\u001b[0;31m       \u001b[0;32mreturn\u001b[0m \u001b[0mself\u001b[0m\u001b[0;34m.\u001b[0m\u001b[0m_stateless_fn\u001b[0m\u001b[0;34m(\u001b[0m\u001b[0;34m*\u001b[0m\u001b[0margs\u001b[0m\u001b[0;34m,\u001b[0m \u001b[0;34m**\u001b[0m\u001b[0mkwds\u001b[0m\u001b[0;34m)\u001b[0m  \u001b[0;31m# pylint: disable=not-callable\u001b[0m\u001b[0;34m\u001b[0m\u001b[0;34m\u001b[0m\u001b[0m\n\u001b[0m\u001b[1;32m    918\u001b[0m     \u001b[0;32melif\u001b[0m \u001b[0mself\u001b[0m\u001b[0;34m.\u001b[0m\u001b[0m_stateful_fn\u001b[0m \u001b[0;32mis\u001b[0m \u001b[0;32mnot\u001b[0m \u001b[0;32mNone\u001b[0m\u001b[0;34m:\u001b[0m\u001b[0;34m\u001b[0m\u001b[0;34m\u001b[0m\u001b[0m\n\u001b[1;32m    919\u001b[0m       \u001b[0;31m# Release the lock early so that multiple threads can perform the call\u001b[0m\u001b[0;34m\u001b[0m\u001b[0;34m\u001b[0m\u001b[0;34m\u001b[0m\u001b[0m\n",
      "\u001b[0;32m~/anaconda3/envs/ep/lib/python3.8/site-packages/tensorflow/python/eager/function.py\u001b[0m in \u001b[0;36m__call__\u001b[0;34m(self, *args, **kwargs)\u001b[0m\n\u001b[1;32m   3037\u001b[0m       (graph_function,\n\u001b[1;32m   3038\u001b[0m        filtered_flat_args) = self._maybe_define_function(args, kwargs)\n\u001b[0;32m-> 3039\u001b[0;31m     return graph_function._call_flat(\n\u001b[0m\u001b[1;32m   3040\u001b[0m         filtered_flat_args, captured_inputs=graph_function.captured_inputs)  # pylint: disable=protected-access\n\u001b[1;32m   3041\u001b[0m \u001b[0;34m\u001b[0m\u001b[0m\n",
      "\u001b[0;32m~/anaconda3/envs/ep/lib/python3.8/site-packages/tensorflow/python/eager/function.py\u001b[0m in \u001b[0;36m_call_flat\u001b[0;34m(self, args, captured_inputs, cancellation_manager)\u001b[0m\n\u001b[1;32m   1961\u001b[0m         and executing_eagerly):\n\u001b[1;32m   1962\u001b[0m       \u001b[0;31m# No tape is watching; skip to running the function.\u001b[0m\u001b[0;34m\u001b[0m\u001b[0;34m\u001b[0m\u001b[0;34m\u001b[0m\u001b[0m\n\u001b[0;32m-> 1963\u001b[0;31m       return self._build_call_outputs(self._inference_function.call(\n\u001b[0m\u001b[1;32m   1964\u001b[0m           ctx, args, cancellation_manager=cancellation_manager))\n\u001b[1;32m   1965\u001b[0m     forward_backward = self._select_forward_and_backward_functions(\n",
      "\u001b[0;32m~/anaconda3/envs/ep/lib/python3.8/site-packages/tensorflow/python/eager/function.py\u001b[0m in \u001b[0;36mcall\u001b[0;34m(self, ctx, args, cancellation_manager)\u001b[0m\n\u001b[1;32m    589\u001b[0m       \u001b[0;32mwith\u001b[0m \u001b[0m_InterpolateFunctionError\u001b[0m\u001b[0;34m(\u001b[0m\u001b[0mself\u001b[0m\u001b[0;34m)\u001b[0m\u001b[0;34m:\u001b[0m\u001b[0;34m\u001b[0m\u001b[0;34m\u001b[0m\u001b[0m\n\u001b[1;32m    590\u001b[0m         \u001b[0;32mif\u001b[0m \u001b[0mcancellation_manager\u001b[0m \u001b[0;32mis\u001b[0m \u001b[0;32mNone\u001b[0m\u001b[0;34m:\u001b[0m\u001b[0;34m\u001b[0m\u001b[0;34m\u001b[0m\u001b[0m\n\u001b[0;32m--> 591\u001b[0;31m           outputs = execute.execute(\n\u001b[0m\u001b[1;32m    592\u001b[0m               \u001b[0mstr\u001b[0m\u001b[0;34m(\u001b[0m\u001b[0mself\u001b[0m\u001b[0;34m.\u001b[0m\u001b[0msignature\u001b[0m\u001b[0;34m.\u001b[0m\u001b[0mname\u001b[0m\u001b[0;34m)\u001b[0m\u001b[0;34m,\u001b[0m\u001b[0;34m\u001b[0m\u001b[0;34m\u001b[0m\u001b[0m\n\u001b[1;32m    593\u001b[0m               \u001b[0mnum_outputs\u001b[0m\u001b[0;34m=\u001b[0m\u001b[0mself\u001b[0m\u001b[0;34m.\u001b[0m\u001b[0m_num_outputs\u001b[0m\u001b[0;34m,\u001b[0m\u001b[0;34m\u001b[0m\u001b[0;34m\u001b[0m\u001b[0m\n",
      "\u001b[0;32m~/anaconda3/envs/ep/lib/python3.8/site-packages/tensorflow/python/eager/execute.py\u001b[0m in \u001b[0;36mquick_execute\u001b[0;34m(op_name, num_outputs, inputs, attrs, ctx, name)\u001b[0m\n\u001b[1;32m     57\u001b[0m   \u001b[0;32mtry\u001b[0m\u001b[0;34m:\u001b[0m\u001b[0;34m\u001b[0m\u001b[0;34m\u001b[0m\u001b[0m\n\u001b[1;32m     58\u001b[0m     \u001b[0mctx\u001b[0m\u001b[0;34m.\u001b[0m\u001b[0mensure_initialized\u001b[0m\u001b[0;34m(\u001b[0m\u001b[0;34m)\u001b[0m\u001b[0;34m\u001b[0m\u001b[0;34m\u001b[0m\u001b[0m\n\u001b[0;32m---> 59\u001b[0;31m     tensors = pywrap_tfe.TFE_Py_Execute(ctx._handle, device_name, op_name,\n\u001b[0m\u001b[1;32m     60\u001b[0m                                         inputs, attrs, num_outputs)\n\u001b[1;32m     61\u001b[0m   \u001b[0;32mexcept\u001b[0m \u001b[0mcore\u001b[0m\u001b[0;34m.\u001b[0m\u001b[0m_NotOkStatusException\u001b[0m \u001b[0;32mas\u001b[0m \u001b[0me\u001b[0m\u001b[0;34m:\u001b[0m\u001b[0;34m\u001b[0m\u001b[0;34m\u001b[0m\u001b[0m\n",
      "\u001b[0;31mKeyboardInterrupt\u001b[0m: "
     ]
    }
   ],
   "source": [
    "# Call model\n",
    "mlp_model = emoji_pred_conv((10,200), num_classes)\n",
    "history = mlp_model.fit(X, y, validation_split=0.1, epochs=100, verbose=2)\n",
    "\n",
    "# Predictions\n",
    "# y_pred_cat = mlp_model.predict(X)\n",
    "# y_pred = np.argmax(y_pred_cat, axis=1)\n",
    "\n",
    "# Accuracy\n",
    "result = mlp_model.evaluate(X, y, verbose=0)\n",
    "model_accuracy = result[1]\n",
    "# y_test = np.argmax(y_test, axis=1)\n",
    "# model_precision = metrics.precision_score(y_test, y_pred, average='weighted')\n",
    "# model_recall = metrics.recall_score(y_test, y_pred, average='weighted')\n",
    "# model_f1 = metrics.f1_score(y_test, y_pred, average='weighted')\n",
    "\n",
    "print(f\">>> Accuracy of MLP model = {(100*model_accuracy):.4f} %\\n\")"
   ]
  },
  {
   "cell_type": "markdown",
   "metadata": {
    "tags": []
   },
   "source": [
    "### Model"
   ]
  },
  {
   "cell_type": "code",
   "execution_count": 48,
   "metadata": {},
   "outputs": [],
   "source": [
    "# Implement tensorflow model for classification\n",
    "\n",
    "# define classification model\n",
    "def classification_model(input_dim, num_classes):\n",
    "    # create model\n",
    "    model = Sequential()\n",
    "    model.add(Dense(1000, activation='relu', input_shape=(input_dim,)))\n",
    "    model.add(Dropout(0.2))\n",
    "    model.add(Dense(100, activation='relu'))\n",
    "    model.add(Dropout(0.2))\n",
    "    model.add(Dense(num_classes, activation='softmax'))\n",
    "    \n",
    "    # compile model\n",
    "    model.compile(optimizer='adam', loss='categorical_crossentropy', metrics=['accuracy'])\n",
    "    return model"
   ]
  },
  {
   "cell_type": "code",
   "execution_count": 50,
   "metadata": {},
   "outputs": [
    {
     "name": "stdout",
     "output_type": "stream",
     "text": [
      "Epoch 1/10\n",
      "1962/1962 - 6s - loss: 2.5144 - accuracy: 0.2721 - val_loss: 2.3404 - val_accuracy: 0.2979\n",
      "Epoch 2/10\n",
      "1962/1962 - 5s - loss: 2.3098 - accuracy: 0.3143 - val_loss: 2.2092 - val_accuracy: 0.3297\n",
      "Epoch 3/10\n",
      "1962/1962 - 5s - loss: 2.0977 - accuracy: 0.3616 - val_loss: 2.0612 - val_accuracy: 0.3708\n",
      "Epoch 4/10\n",
      "1962/1962 - 5s - loss: 1.8165 - accuracy: 0.4305 - val_loss: 1.9210 - val_accuracy: 0.4292\n",
      "Epoch 5/10\n",
      "1962/1962 - 5s - loss: 1.5087 - accuracy: 0.5156 - val_loss: 1.8275 - val_accuracy: 0.4748\n",
      "Epoch 6/10\n",
      "1962/1962 - 5s - loss: 1.2279 - accuracy: 0.6006 - val_loss: 1.7778 - val_accuracy: 0.5146\n",
      "Epoch 7/10\n",
      "1962/1962 - 5s - loss: 1.0094 - accuracy: 0.6692 - val_loss: 1.7947 - val_accuracy: 0.5406\n",
      "Epoch 8/10\n",
      "1962/1962 - 5s - loss: 0.8549 - accuracy: 0.7204 - val_loss: 1.8501 - val_accuracy: 0.5557\n",
      "Epoch 9/10\n",
      "1962/1962 - 5s - loss: 0.7362 - accuracy: 0.7608 - val_loss: 1.8747 - val_accuracy: 0.5712\n",
      "Epoch 10/10\n",
      "1962/1962 - 5s - loss: 0.6428 - accuracy: 0.7893 - val_loss: 1.9395 - val_accuracy: 0.5756\n",
      ">>> Accuracy of MLP model = 90.7029 %\n",
      "\n"
     ]
    }
   ],
   "source": [
    "# Call model\n",
    "mlp_model = classification_model(2000, num_classes)\n",
    "history = mlp_model.fit(X, y, validation_split=0.1, epochs=1, verbose=2)\n",
    "\n",
    "# Predictions\n",
    "y_pred_cat = mlp_model.predict(X_test)\n",
    "y_pred = np.argmax(y_pred_cat, axis=1)\n",
    "\n",
    "# Accuracy\n",
    "result = mlp_model.evaluate(X, y, verbose=0)\n",
    "model_accuracy = result[1]\n",
    "# y_test = np.argmax(y_test, axis=1)\n",
    "# model_precision = metrics.precision_score(y_test, y_pred, average='weighted')\n",
    "# model_recall = metrics.recall_score(y_test, y_pred, average='weighted')\n",
    "# model_f1 = metrics.f1_score(y_test, y_pred, average='weighted')\n",
    "\n",
    "print(f\">>> Accuracy of MLP model = {(100*model_accuracy):.4f} %\\n\")"
   ]
  },
  {
   "cell_type": "code",
   "execution_count": null,
   "metadata": {},
   "outputs": [],
   "source": []
  }
 ],
 "metadata": {
  "kernelspec": {
   "display_name": "Python 3 (ipykernel)",
   "language": "python",
   "name": "python3"
  },
  "language_info": {
   "codemirror_mode": {
    "name": "ipython",
    "version": 3
   },
   "file_extension": ".py",
   "mimetype": "text/x-python",
   "name": "python",
   "nbconvert_exporter": "python",
   "pygments_lexer": "ipython3",
   "version": "3.8.11"
  }
 },
 "nbformat": 4,
 "nbformat_minor": 4
}
